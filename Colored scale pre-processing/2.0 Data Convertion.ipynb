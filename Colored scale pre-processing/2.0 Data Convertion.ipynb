{
 "cells": [
  
  {
   "cell_type": "code",
   "execution_count": 1,
   "id": "3408201e",
   "metadata": {},
   "outputs": [],
   "source": [
    "from pydub.utils import mediainfo\n",
    "from scipy.io.wavfile import read as read_wav\n",
    "from pydub import AudioSegment as am"
   ]
  },
  {
   "cell_type": "code",
   "execution_count": 6,
   "id": "850aef5e",
   "metadata": {},
   "outputs": [],
   "source": [
    "import os\n",
    "#from pydub import AudioSegment\n",
    "\n",
    "path = r\"C:\\Users\\HP\\Desktop\\testeng\"\n",
    "\n",
    "#Change working directory\n",
    "os.chdir(path)\n",
    "\n",
    "audio_files = os.listdir()\n",
    "i = 0\n",
    "for file in audio_files:\n",
    "    name, ext = os.path.splitext(file)\n",
    "    if ext == \".wav\":\n",
    "        sampling_rate, data=read_wav(file) # enter your filename\n",
    "        if sampling_rate <= 48000:\n",
    "            sound = am.from_file(file, format='wav')\n",
    "            sound = sound.set_frame_rate(48000)\n",
    "            sound.export(r\"C:\\Users\\HP\\Desktop\\FinalEN\\\\\" + file, format='wav')"
   ]
  },
  {
   "cell_type": "code",
   "execution_count": 2,
   "id": "cde6c1ee",
   "metadata": {},
   "outputs": [],
   "source": [
    "def create_spectrogram_test(audio_file):\n",
    "    out_image_file = audio_file + '.png'\n",
    "    plt.interactive(False)\n",
    "    clip, sample_rate = librosa.load(audio_file, sr=None)\n",
    "    target_len = 10* sample_rate\n",
    "    audio_segment = np.concatenate([clip]*3, axis=0)\n",
    "    audio_segment = audio_segment[0:target_len]\n",
    "    \n",
    "    fig = plt.figure(figsize=[1.2,1.2])\n",
    "    ax = fig.add_subplot(111)\n",
    "    ax.axes.get_xaxis().set_visible(False)\n",
    "    ax.axes.get_yaxis().set_visible(False)\n",
    "    ax.set_frame_on(False)\n",
    "    S = librosa.feature.melspectrogram(y=audio_segment, sr=sample_rate)\n",
    "    librosa.display.specshow(librosa.power_to_db(S, ref=np.max))\n",
    "    fig.savefig(out_image_file, dpi=400, bbox_inches='tight',pad_inches=0)\n",
    "    plt.close()    \n",
    "    fig.clf()\n",
    "    plt.close(fig)\n",
    "    plt.close('all')"
   ]
  },
  {
   "cell_type": "code",
   "execution_count": 3,
   "id": "395dec60",
   "metadata": {},
   "outputs": [],
   "source": [
    "import librosa\n",
    "import librosa.display\n",
    "import pylab\n",
    "import matplotlib.pyplot as plt\n",
    "from matplotlib import figure\n",
    "import gc\n",
    "import numpy as np"
   ]
  },
  {
   "cell_type": "code",
   "execution_count": 6,
   "id": "c849b3f1",
   "metadata": {},
   "outputs": [],
   "source": [
    "path = r\"C:\\Users\\HP\\Desktop\\arabic1\"\n",
    "#Change working directory\n",
    "import os\n",
    "import matplotlib.pyplot as plt\n",
    "os.chdir(path)\n",
    "audio_files = os.listdir()\n",
    "for filename in audio_files:\n",
    "    \n",
    "    if filename.endswith(\".wav\"):\n",
    "        create_spectrogram_test(filename)"
   ]
  },
  {
   "cell_type": "code",
   "execution_count": 2,
   "id": "98c3ddb1",
   "metadata": {},
   "outputs": [],
   "source": [
    "import os\n",
    "from pydub import AudioSegment\n",
    "\n",
    "path = r\"C:\\Users\\HP\\Desktop\\test ara\"\n",
    "\n",
    "#Change working directory\n",
    "os.chdir(path)\n",
    "\n",
    "audio_files = os.listdir()\n",
    "\n",
    "# You dont need the number of files in the folder, just iterate over them directly using:\n",
    "for file in audio_files:\n",
    "    #spliting the file into the name and the extension\n",
    "    name, ext = os.path.splitext(file)\n",
    "    if ext == \".mp3\":\n",
    "       mp3_sound = AudioSegment.from_mp3(file)\n",
    "       #rename them using the old name + \".wav\"\n",
    "       mp3_sound.export(\"{0}.wav\".format(name), format=\"wav\")"
   ]
  },
  {
   "cell_type": "code",
   "execution_count": null,
   "id": "513f64eb",
   "metadata": {},
   "outputs": [],
   "source": []
  }
 ],
 "metadata": {
  "kernelspec": {
   "display_name": "Python 3",
   "language": "python",
   "name": "python3"
  },
  "language_info": {
   "codemirror_mode": {
    "name": "ipython",
    "version": 3
   },
   "file_extension": ".py",
   "mimetype": "text/x-python",
   "name": "python",
   "nbconvert_exporter": "python",
   "pygments_lexer": "ipython3",
   "version": "3.8.8"
  }
 },
 "nbformat": 4,
 "nbformat_minor": 5
}

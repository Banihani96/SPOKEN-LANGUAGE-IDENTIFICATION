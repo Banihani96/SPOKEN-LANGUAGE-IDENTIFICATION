{
  "nbformat": 4,
  "nbformat_minor": 0,
  "metadata": {
    "colab": {
      "provenance": []
    },
    "kernelspec": {
      "name": "python3",
      "display_name": "Python 3"
    },
    "language_info": {
      "name": "python"
    }
  },
  "cells": [
    {
      "cell_type": "code",
      "source": [
        "import librosa as lr\n",
        "import sounddevice as sd\n",
        "from glob import glob\n",
        "import os\n",
        "import librosa\n",
        "from librosa import feature\n",
        "import numpy as np\n",
        "import csv"
      ],
      "metadata": {
        "id": "BfEM0Mf8wiDt"
      },
      "execution_count": null,
      "outputs": []
    },
    {
      "cell_type": "code",
      "execution_count": 1,
      "metadata": {
        "id": "MiAXZslZwYG_"
      },
      "outputs": [],
      "source": [
        "      \n",
        "def wavetonumeric():\n",
        "    \n",
        "    #audio = r\"C:\\Users\\m.banihani\\Downloads\"\n",
        "    audio  = r\"C:\\Users\\MohamedBH\\Personnel\\Capstone Project\\testlive\"\n",
        "    os.chdir(audio)\n",
        "\n",
        "    audio_files = os.listdir()\n",
        "    i = 0\n",
        "    # You dont need the number of files in the folder, just iterate over them directly using:\n",
        "    for file in audio_files:\n",
        "    #spliting the file into the name and the extension\n",
        "    #name, ext = os.path.splitext(file)\n",
        "        if file.endswith(\".wav\"):\n",
        "        #if ext == \".wav\":\n",
        "            fn_list_i = [\n",
        "                feature.chroma_stft,\n",
        "                feature.spectral_centroid,\n",
        "                feature.spectral_bandwidth,\n",
        "                feature.spectral_rolloff,\n",
        "                feature.chroma_cqt,\n",
        "                feature.chroma_cens,\n",
        "                feature.melspectrogram,\n",
        "                feature.mfcc,\n",
        "                feature.rms,\n",
        "                feature.spectral_contrast,\n",
        "                #feature.spectral_flatness,\n",
        "                feature.poly_features,\n",
        "                feature.tonnetz]\n",
        "\n",
        "            fn_list_ii = [feature.zero_crossing_rate]\n",
        "\n",
        "            def get_feature_vector(y,sr):  \n",
        "                feat_vect_i = [ np.mean(funct(y,sr)) for funct in fn_list_i]\n",
        "                feat_vect_ii = [ np.mean(funct(y)) for funct in fn_list_ii]\n",
        "\n",
        "                feature_vector =   feat_vect_i + feat_vect_ii\n",
        "                return feature_vector\n",
        "\n",
        "            #build the matrix with normal audios featurized\n",
        "            audios_feat = []\n",
        "            Clip_Name = []\n",
        "            for file in audio_files:\n",
        "                if file.endswith(\".wav\"):\n",
        "                    #Clip_Name.append(file.rsplit('/', 1)[-1])\n",
        "                    y,sr = librosa.load(file,sr=256000)   \n",
        "                    feature_vector = get_feature_vector(y, sr)\n",
        "                    audios_feat.append(feature_vector)  \n",
        "\n",
        "            norm_output = 'kalan.csv'\n",
        "            header =[\n",
        "\n",
        "                'chroma_stft',\n",
        "                'spectral_centroid',\n",
        "                'spectral_bandwidth',\n",
        "                'spectral_rolloff',\n",
        "                'chroma_cqt',\n",
        "                'chroma_cens',\n",
        "                'melspectrogram',\n",
        "                'mfcc',\n",
        "                'rms',\n",
        "                'spectral_contrast',\n",
        "                #feature.spectral_flatness,\n",
        "                'poly_features',\n",
        "                'tonnetz',\n",
        "                'zero_crossing_rate']\n",
        "            \n",
        "            i=0\n",
        "            #WARNING : this overwrites the file each time. Be aware of this because feature extraction step takes time.\n",
        "            with open(norm_output,'+w',newline='') as f:\n",
        "                print(i)\n",
        "                csv_writer = csv.writer(f, delimiter = ',')\n",
        "                csv_writer.writerow(header)\n",
        "                csv_writer.writerows(audios_feat)\n",
        "                #csv_writer.writerows(Clip_Name[i])\n",
        "                i+=1\n",
        "                print('by')"
      ]
    },
    {
      "cell_type": "code",
      "source": [],
      "metadata": {
        "id": "FNFpvdmPwbIa"
      },
      "execution_count": null,
      "outputs": []
    }
  ]
}
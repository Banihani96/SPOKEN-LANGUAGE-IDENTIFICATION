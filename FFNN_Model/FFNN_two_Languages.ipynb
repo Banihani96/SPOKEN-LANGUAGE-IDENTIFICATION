{
  "nbformat": 4,
  "nbformat_minor": 0,
  "metadata": {
    "colab": {
      "provenance": [],
      "collapsed_sections": []
    },
    "kernelspec": {
      "display_name": "Python 3",
      "name": "python3"
    },
    "language_info": {
      "name": "python"
    }
  },
  "cells": [
    {
      "cell_type": "code",
      "metadata": {
        "id": "oNPbzUuX3uYq"
      },
      "source": [
        "import numpy as np\n",
        "import pandas as pd\n",
        "import matplotlib.pyplot as plt"
      ],
      "execution_count": null,
      "outputs": []
    },
    {
      "cell_type": "code",
      "metadata": {
        "colab": {
          "base_uri": "https://localhost:8080/",
          "height": 223
        },
        "id": "0XCD1W6o4C_n",
        "outputId": "ed7648a3-f0b2-4448-d3f5-48ed8f065ab5"
      },
      "source": [
        "ArabicFeaurures = '/content/drive/MyDrive/ZAKA MACHINE LEARNING CERTIFICATION/CAPSTONE PROJECT/araN.csv'\n",
        "EnglishFeatures='/content/drive/MyDrive/ZAKA MACHINE LEARNING CERTIFICATION/CAPSTONE PROJECT/engN.csv'\n",
        "ArabicFeaururesData = pd.read_csv(ArabicFeaurures)\n",
        "EnglishFeaturesData = pd.read_csv(EnglishFeatures) \n",
        "FullData=pd.concat([ArabicFeaururesData,EnglishFeaturesData])\n",
        "FullData.head(5)"
      ],
      "execution_count": null,
      "outputs": [
        {
          "output_type": "execute_result",
          "data": {
            "text/html": [
              "<div>\n",
              "<style scoped>\n",
              "    .dataframe tbody tr th:only-of-type {\n",
              "        vertical-align: middle;\n",
              "    }\n",
              "\n",
              "    .dataframe tbody tr th {\n",
              "        vertical-align: top;\n",
              "    }\n",
              "\n",
              "    .dataframe thead th {\n",
              "        text-align: right;\n",
              "    }\n",
              "</style>\n",
              "<table border=\"1\" class=\"dataframe\">\n",
              "  <thead>\n",
              "    <tr style=\"text-align: right;\">\n",
              "      <th></th>\n",
              "      <th>chroma_stft</th>\n",
              "      <th>spectral_centroid</th>\n",
              "      <th>spectral_bandwidth</th>\n",
              "      <th>spectral_rolloff</th>\n",
              "      <th>chroma_cqt</th>\n",
              "      <th>chroma_cens</th>\n",
              "      <th>melspectrogram</th>\n",
              "      <th>mfcc</th>\n",
              "      <th>rms</th>\n",
              "      <th>spectral_contrast</th>\n",
              "      <th>poly_features</th>\n",
              "      <th>tonnetz</th>\n",
              "      <th>zero_crossing_rate</th>\n",
              "      <th>Class</th>\n",
              "    </tr>\n",
              "  </thead>\n",
              "  <tbody>\n",
              "    <tr>\n",
              "      <th>0</th>\n",
              "      <td>0.361627</td>\n",
              "      <td>2093.479979</td>\n",
              "      <td>2756.611745</td>\n",
              "      <td>3717.276999</td>\n",
              "      <td>0.519177</td>\n",
              "      <td>0.249534</td>\n",
              "      <td>1.255769</td>\n",
              "      <td>-20.867493</td>\n",
              "      <td>0.047192</td>\n",
              "      <td>17.207381</td>\n",
              "      <td>0.279122</td>\n",
              "      <td>0.009241</td>\n",
              "      <td>0.039775</td>\n",
              "      <td>A</td>\n",
              "    </tr>\n",
              "    <tr>\n",
              "      <th>1</th>\n",
              "      <td>0.377552</td>\n",
              "      <td>2249.304276</td>\n",
              "      <td>2695.011260</td>\n",
              "      <td>3910.200639</td>\n",
              "      <td>0.512439</td>\n",
              "      <td>0.252403</td>\n",
              "      <td>1.223430</td>\n",
              "      <td>-21.290136</td>\n",
              "      <td>0.047345</td>\n",
              "      <td>18.046612</td>\n",
              "      <td>0.299653</td>\n",
              "      <td>-0.009953</td>\n",
              "      <td>0.052820</td>\n",
              "      <td>A</td>\n",
              "    </tr>\n",
              "    <tr>\n",
              "      <th>2</th>\n",
              "      <td>0.365353</td>\n",
              "      <td>2253.220790</td>\n",
              "      <td>3029.373531</td>\n",
              "      <td>4187.581169</td>\n",
              "      <td>0.534871</td>\n",
              "      <td>0.263015</td>\n",
              "      <td>1.083463</td>\n",
              "      <td>-22.431240</td>\n",
              "      <td>0.038590</td>\n",
              "      <td>16.756501</td>\n",
              "      <td>0.277767</td>\n",
              "      <td>0.014904</td>\n",
              "      <td>0.039435</td>\n",
              "      <td>A</td>\n",
              "    </tr>\n",
              "    <tr>\n",
              "      <th>3</th>\n",
              "      <td>0.441495</td>\n",
              "      <td>2340.682081</td>\n",
              "      <td>2650.892994</td>\n",
              "      <td>4155.394452</td>\n",
              "      <td>0.607075</td>\n",
              "      <td>0.268242</td>\n",
              "      <td>0.909926</td>\n",
              "      <td>-20.949730</td>\n",
              "      <td>0.037875</td>\n",
              "      <td>16.987508</td>\n",
              "      <td>0.258348</td>\n",
              "      <td>0.004576</td>\n",
              "      <td>0.058055</td>\n",
              "      <td>A</td>\n",
              "    </tr>\n",
              "    <tr>\n",
              "      <th>4</th>\n",
              "      <td>0.412772</td>\n",
              "      <td>2282.930057</td>\n",
              "      <td>2769.853283</td>\n",
              "      <td>3927.473262</td>\n",
              "      <td>0.537294</td>\n",
              "      <td>0.254573</td>\n",
              "      <td>0.740264</td>\n",
              "      <td>-22.041950</td>\n",
              "      <td>0.036171</td>\n",
              "      <td>16.905617</td>\n",
              "      <td>0.237889</td>\n",
              "      <td>0.010782</td>\n",
              "      <td>0.054639</td>\n",
              "      <td>A</td>\n",
              "    </tr>\n",
              "  </tbody>\n",
              "</table>\n",
              "</div>"
            ],
            "text/plain": [
              "   chroma_stft  spectral_centroid  ...  zero_crossing_rate  Class\n",
              "0     0.361627        2093.479979  ...            0.039775      A\n",
              "1     0.377552        2249.304276  ...            0.052820      A\n",
              "2     0.365353        2253.220790  ...            0.039435      A\n",
              "3     0.441495        2340.682081  ...            0.058055      A\n",
              "4     0.412772        2282.930057  ...            0.054639      A\n",
              "\n",
              "[5 rows x 14 columns]"
            ]
          },
          "metadata": {},
          "execution_count": 2
        }
      ]
    },
    {
      "cell_type": "code",
      "metadata": {
        "colab": {
          "base_uri": "https://localhost:8080/"
        },
        "id": "wSeJ5WCD4RVj",
        "outputId": "f85b70fe-43e3-405d-bfd7-324ea6220e88"
      },
      "source": [
        "# select Arabic \n",
        "Arabic = FullData[(FullData.Class == \"A\")]\n",
        "\n",
        "# select Englis\n",
        "English = FullData[(FullData.Class == \"E\")]\n",
        "\n",
        "\n",
        "print('There are {} Arabic and {} English.'.format(Arabic.shape[0], English.shape[0]))"
      ],
      "execution_count": null,
      "outputs": [
        {
          "output_type": "stream",
          "name": "stdout",
          "text": [
            "There are 20000 Arabic and 20000 English.\n"
          ]
        }
      ]
    },
    {
      "cell_type": "code",
      "metadata": {
        "id": "xfzQ9w-U4jCp"
      },
      "source": [
        "from sklearn import preprocessing\n",
        "\n",
        "encoder = preprocessing.LabelEncoder()\n",
        "FullData['Class'] = encoder.fit_transform(FullData['Class'])"
      ],
      "execution_count": null,
      "outputs": []
    },
    {
      "cell_type": "code",
      "metadata": {
        "colab": {
          "base_uri": "https://localhost:8080/",
          "height": 315
        },
        "id": "IIF9z-GM4tnB",
        "outputId": "e2f6b116-5554-448d-9491-fb49824b84b6"
      },
      "source": [
        "FullData.max().to_csv(\"/content/drive/MyDrive/Colab Notebooks/Final Models/MAX.csv\")\n",
        "\n",
        "FullDataUpdated = FullData.divide(FullData.max(axis=0))\n",
        "\n",
        "FullDataUpdated.describe()\n"
      ],
      "execution_count": null,
      "outputs": [
        {
          "output_type": "execute_result",
          "data": {
            "text/html": [
              "<div>\n",
              "<style scoped>\n",
              "    .dataframe tbody tr th:only-of-type {\n",
              "        vertical-align: middle;\n",
              "    }\n",
              "\n",
              "    .dataframe tbody tr th {\n",
              "        vertical-align: top;\n",
              "    }\n",
              "\n",
              "    .dataframe thead th {\n",
              "        text-align: right;\n",
              "    }\n",
              "</style>\n",
              "<table border=\"1\" class=\"dataframe\">\n",
              "  <thead>\n",
              "    <tr style=\"text-align: right;\">\n",
              "      <th></th>\n",
              "      <th>chroma_stft</th>\n",
              "      <th>spectral_centroid</th>\n",
              "      <th>spectral_bandwidth</th>\n",
              "      <th>spectral_rolloff</th>\n",
              "      <th>chroma_cqt</th>\n",
              "      <th>chroma_cens</th>\n",
              "      <th>melspectrogram</th>\n",
              "      <th>mfcc</th>\n",
              "      <th>rms</th>\n",
              "      <th>spectral_contrast</th>\n",
              "      <th>poly_features</th>\n",
              "      <th>tonnetz</th>\n",
              "      <th>zero_crossing_rate</th>\n",
              "      <th>Class</th>\n",
              "    </tr>\n",
              "  </thead>\n",
              "  <tbody>\n",
              "    <tr>\n",
              "      <th>count</th>\n",
              "      <td>40000.000000</td>\n",
              "      <td>40000.000000</td>\n",
              "      <td>40000.000000</td>\n",
              "      <td>40000.000000</td>\n",
              "      <td>40000.000000</td>\n",
              "      <td>40000.000000</td>\n",
              "      <td>4.000000e+04</td>\n",
              "      <td>40000.000000</td>\n",
              "      <td>40000.000000</td>\n",
              "      <td>40000.000000</td>\n",
              "      <td>40000.000000</td>\n",
              "      <td>40000.000000</td>\n",
              "      <td>40000.000000</td>\n",
              "      <td>40000.000000</td>\n",
              "    </tr>\n",
              "    <tr>\n",
              "      <th>mean</th>\n",
              "      <td>0.558317</td>\n",
              "      <td>0.334742</td>\n",
              "      <td>0.460383</td>\n",
              "      <td>0.348331</td>\n",
              "      <td>0.604364</td>\n",
              "      <td>0.854873</td>\n",
              "      <td>2.613195e-02</td>\n",
              "      <td>-2.880016</td>\n",
              "      <td>0.101542</td>\n",
              "      <td>0.719378</td>\n",
              "      <td>0.073475</td>\n",
              "      <td>0.009881</td>\n",
              "      <td>0.164132</td>\n",
              "      <td>0.500000</td>\n",
              "    </tr>\n",
              "    <tr>\n",
              "      <th>std</th>\n",
              "      <td>0.113670</td>\n",
              "      <td>0.114648</td>\n",
              "      <td>0.120183</td>\n",
              "      <td>0.127879</td>\n",
              "      <td>0.096157</td>\n",
              "      <td>0.062211</td>\n",
              "      <td>3.344614e-02</td>\n",
              "      <td>0.990715</td>\n",
              "      <td>0.068435</td>\n",
              "      <td>0.057002</td>\n",
              "      <td>0.050466</td>\n",
              "      <td>0.067395</td>\n",
              "      <td>0.079905</td>\n",
              "      <td>0.500006</td>\n",
              "    </tr>\n",
              "    <tr>\n",
              "      <th>min</th>\n",
              "      <td>0.066808</td>\n",
              "      <td>0.030573</td>\n",
              "      <td>0.054923</td>\n",
              "      <td>0.013434</td>\n",
              "      <td>0.202212</td>\n",
              "      <td>0.482314</td>\n",
              "      <td>9.061197e-09</td>\n",
              "      <td>-8.264840</td>\n",
              "      <td>0.000121</td>\n",
              "      <td>0.326247</td>\n",
              "      <td>0.000073</td>\n",
              "      <td>-0.432423</td>\n",
              "      <td>0.006164</td>\n",
              "      <td>0.000000</td>\n",
              "    </tr>\n",
              "    <tr>\n",
              "      <th>25%</th>\n",
              "      <td>0.499246</td>\n",
              "      <td>0.256330</td>\n",
              "      <td>0.382825</td>\n",
              "      <td>0.258936</td>\n",
              "      <td>0.540991</td>\n",
              "      <td>0.818554</td>\n",
              "      <td>4.581662e-03</td>\n",
              "      <td>-3.519717</td>\n",
              "      <td>0.047773</td>\n",
              "      <td>0.683244</td>\n",
              "      <td>0.035767</td>\n",
              "      <td>-0.026600</td>\n",
              "      <td>0.107281</td>\n",
              "      <td>0.000000</td>\n",
              "    </tr>\n",
              "    <tr>\n",
              "      <th>50%</th>\n",
              "      <td>0.567552</td>\n",
              "      <td>0.326148</td>\n",
              "      <td>0.464210</td>\n",
              "      <td>0.338513</td>\n",
              "      <td>0.606000</td>\n",
              "      <td>0.862892</td>\n",
              "      <td>1.771784e-02</td>\n",
              "      <td>-2.877337</td>\n",
              "      <td>0.093472</td>\n",
              "      <td>0.720066</td>\n",
              "      <td>0.067882</td>\n",
              "      <td>0.004143</td>\n",
              "      <td>0.150907</td>\n",
              "      <td>0.500000</td>\n",
              "    </tr>\n",
              "    <tr>\n",
              "      <th>75%</th>\n",
              "      <td>0.631464</td>\n",
              "      <td>0.402459</td>\n",
              "      <td>0.542385</td>\n",
              "      <td>0.428339</td>\n",
              "      <td>0.668603</td>\n",
              "      <td>0.899676</td>\n",
              "      <td>3.710764e-02</td>\n",
              "      <td>-2.233223</td>\n",
              "      <td>0.142557</td>\n",
              "      <td>0.756320</td>\n",
              "      <td>0.101914</td>\n",
              "      <td>0.036857</td>\n",
              "      <td>0.205605</td>\n",
              "      <td>1.000000</td>\n",
              "    </tr>\n",
              "    <tr>\n",
              "      <th>max</th>\n",
              "      <td>1.000000</td>\n",
              "      <td>1.000000</td>\n",
              "      <td>1.000000</td>\n",
              "      <td>1.000000</td>\n",
              "      <td>1.000000</td>\n",
              "      <td>1.000000</td>\n",
              "      <td>1.000000e+00</td>\n",
              "      <td>1.000000</td>\n",
              "      <td>1.000000</td>\n",
              "      <td>1.000000</td>\n",
              "      <td>1.000000</td>\n",
              "      <td>1.000000</td>\n",
              "      <td>1.000000</td>\n",
              "      <td>1.000000</td>\n",
              "    </tr>\n",
              "  </tbody>\n",
              "</table>\n",
              "</div>"
            ],
            "text/plain": [
              "        chroma_stft  spectral_centroid  ...  zero_crossing_rate         Class\n",
              "count  40000.000000       40000.000000  ...        40000.000000  40000.000000\n",
              "mean       0.558317           0.334742  ...            0.164132      0.500000\n",
              "std        0.113670           0.114648  ...            0.079905      0.500006\n",
              "min        0.066808           0.030573  ...            0.006164      0.000000\n",
              "25%        0.499246           0.256330  ...            0.107281      0.000000\n",
              "50%        0.567552           0.326148  ...            0.150907      0.500000\n",
              "75%        0.631464           0.402459  ...            0.205605      1.000000\n",
              "max        1.000000           1.000000  ...            1.000000      1.000000\n",
              "\n",
              "[8 rows x 14 columns]"
            ]
          },
          "metadata": {},
          "execution_count": 5
        }
      ]
    },
    {
      "cell_type": "code",
      "metadata": {
        "colab": {
          "base_uri": "https://localhost:8080/"
        },
        "id": "TuCx-xH8439q",
        "outputId": "f89b7653-4765-4ec3-eb94-95a25a62d9d1"
      },
      "source": [
        "import tensorflow as tf\n",
        "from tensorflow.keras.models import Sequential\n",
        "from tensorflow.keras.layers import Dense\n",
        "\n",
        "model = Sequential()\n",
        "\n",
        "model.add(Dense(96, input_dim=13, activation='relu'))\n",
        "model.add(Dense(88, activation='relu'))\n",
        "model.add(Dense(44, activation='relu'))\n",
        "model.add(Dense(22, activation='relu'))\n",
        "model.add(Dense(10, activation='relu'))\n",
        "model.add(Dense(5, activation='relu'))\n",
        "model.add(Dense(3, activation='relu'))\n",
        "model.add(Dense(1, activation='sigmoid'))\n",
        "\n",
        "model.summary()"
      ],
      "execution_count": null,
      "outputs": [
        {
          "output_type": "stream",
          "name": "stdout",
          "text": [
            "Model: \"sequential\"\n",
            "_________________________________________________________________\n",
            "Layer (type)                 Output Shape              Param #   \n",
            "=================================================================\n",
            "dense (Dense)                (None, 96)                1344      \n",
            "_________________________________________________________________\n",
            "dense_1 (Dense)              (None, 88)                8536      \n",
            "_________________________________________________________________\n",
            "dense_2 (Dense)              (None, 44)                3916      \n",
            "_________________________________________________________________\n",
            "dense_3 (Dense)              (None, 22)                990       \n",
            "_________________________________________________________________\n",
            "dense_4 (Dense)              (None, 10)                230       \n",
            "_________________________________________________________________\n",
            "dense_5 (Dense)              (None, 5)                 55        \n",
            "_________________________________________________________________\n",
            "dense_6 (Dense)              (None, 3)                 18        \n",
            "_________________________________________________________________\n",
            "dense_7 (Dense)              (None, 1)                 4         \n",
            "=================================================================\n",
            "Total params: 15,093\n",
            "Trainable params: 15,093\n",
            "Non-trainable params: 0\n",
            "_________________________________________________________________\n"
          ]
        }
      ]
    },
    {
      "cell_type": "code",
      "metadata": {
        "id": "Cqo0QVOZ49IC"
      },
      "source": [
        "model.compile(optimizer='Adam',\n",
        "              loss='binary_crossentropy',\n",
        "              metrics=['accuracy', tf.keras.metrics.Precision(), tf.keras.metrics.Recall()])"
      ],
      "execution_count": null,
      "outputs": []
    },
    {
      "cell_type": "code",
      "metadata": {
        "colab": {
          "base_uri": "https://localhost:8080/"
        },
        "id": "aM_U77U_5CjN",
        "outputId": "929f7944-1295-425a-915a-d240dd7f17da"
      },
      "source": [
        "from sklearn.model_selection import train_test_split\n",
        "\n",
        "x = FullDataUpdated.iloc[:,:-1]\n",
        "y = FullDataUpdated.iloc[:, -1]\n",
        "\n",
        "x_train, x_test, y_train, y_test = train_test_split(x, y, test_size=0.35,shuffle=True)\n",
        "\n",
        "history=model.fit(x_train, y_train, validation_data=(x_test, y_test), epochs=15)"
      ],
      "execution_count": null,
      "outputs": [
        {
          "output_type": "stream",
          "name": "stdout",
          "text": [
            "Epoch 1/15\n",
            "813/813 [==============================] - 4s 4ms/step - loss: 0.4762 - accuracy: 0.7654 - precision: 0.7557 - recall: 0.7866 - val_loss: 0.3533 - val_accuracy: 0.8571 - val_precision: 0.8670 - val_recall: 0.8418\n",
            "Epoch 2/15\n",
            "813/813 [==============================] - 2s 3ms/step - loss: 0.3464 - accuracy: 0.8593 - precision: 0.8531 - recall: 0.8692 - val_loss: 0.3392 - val_accuracy: 0.8595 - val_precision: 0.8864 - val_recall: 0.8228\n",
            "Epoch 3/15\n",
            "813/813 [==============================] - 2s 3ms/step - loss: 0.3310 - accuracy: 0.8662 - precision: 0.8575 - recall: 0.8795 - val_loss: 0.3720 - val_accuracy: 0.8451 - val_precision: 0.9077 - val_recall: 0.7663\n",
            "Epoch 4/15\n",
            "813/813 [==============================] - 3s 3ms/step - loss: 0.3230 - accuracy: 0.8665 - precision: 0.8573 - recall: 0.8803 - val_loss: 0.3138 - val_accuracy: 0.8709 - val_precision: 0.8546 - val_recall: 0.8921\n",
            "Epoch 5/15\n",
            "813/813 [==============================] - 2s 3ms/step - loss: 0.3192 - accuracy: 0.8692 - precision: 0.8578 - recall: 0.8861 - val_loss: 0.3133 - val_accuracy: 0.8696 - val_precision: 0.8689 - val_recall: 0.8688\n",
            "Epoch 6/15\n",
            "813/813 [==============================] - 2s 3ms/step - loss: 0.3128 - accuracy: 0.8720 - precision: 0.8583 - recall: 0.8920 - val_loss: 0.3270 - val_accuracy: 0.8640 - val_precision: 0.8755 - val_recall: 0.8468\n",
            "Epoch 7/15\n",
            "813/813 [==============================] - 3s 3ms/step - loss: 0.3109 - accuracy: 0.8702 - precision: 0.8593 - recall: 0.8863 - val_loss: 0.3079 - val_accuracy: 0.8739 - val_precision: 0.8522 - val_recall: 0.9030\n",
            "Epoch 8/15\n",
            "813/813 [==============================] - 2s 3ms/step - loss: 0.3080 - accuracy: 0.8738 - precision: 0.8635 - recall: 0.8889 - val_loss: 0.3063 - val_accuracy: 0.8735 - val_precision: 0.8786 - val_recall: 0.8651\n",
            "Epoch 9/15\n",
            "813/813 [==============================] - 2s 3ms/step - loss: 0.3035 - accuracy: 0.8735 - precision: 0.8617 - recall: 0.8908 - val_loss: 0.3073 - val_accuracy: 0.8700 - val_precision: 0.8689 - val_recall: 0.8697\n",
            "Epoch 10/15\n",
            "813/813 [==============================] - 3s 3ms/step - loss: 0.3015 - accuracy: 0.8741 - precision: 0.8638 - recall: 0.8892 - val_loss: 0.3030 - val_accuracy: 0.8743 - val_precision: 0.8856 - val_recall: 0.8579\n",
            "Epoch 11/15\n",
            "813/813 [==============================] - 2s 3ms/step - loss: 0.3002 - accuracy: 0.8752 - precision: 0.8651 - recall: 0.8899 - val_loss: 0.2993 - val_accuracy: 0.8745 - val_precision: 0.8741 - val_recall: 0.8733\n",
            "Epoch 12/15\n",
            "813/813 [==============================] - 2s 3ms/step - loss: 0.2944 - accuracy: 0.8772 - precision: 0.8674 - recall: 0.8915 - val_loss: 0.3008 - val_accuracy: 0.8756 - val_precision: 0.8553 - val_recall: 0.9026\n",
            "Epoch 13/15\n",
            "813/813 [==============================] - 2s 3ms/step - loss: 0.2943 - accuracy: 0.8773 - precision: 0.8678 - recall: 0.8912 - val_loss: 0.3076 - val_accuracy: 0.8701 - val_precision: 0.8240 - val_recall: 0.9392\n",
            "Epoch 14/15\n",
            "813/813 [==============================] - 2s 3ms/step - loss: 0.2889 - accuracy: 0.8825 - precision: 0.8735 - recall: 0.8954 - val_loss: 0.3318 - val_accuracy: 0.8601 - val_precision: 0.8029 - val_recall: 0.9524\n",
            "Epoch 15/15\n",
            "813/813 [==============================] - 3s 3ms/step - loss: 0.2889 - accuracy: 0.8792 - precision: 0.8704 - recall: 0.8918 - val_loss: 0.3104 - val_accuracy: 0.8726 - val_precision: 0.8349 - val_recall: 0.9270\n"
          ]
        }
      ]
    },
    {
      "cell_type": "code",
      "metadata": {
        "colab": {
          "base_uri": "https://localhost:8080/",
          "height": 590
        },
        "id": "QiNAQ_Ks5Egn",
        "outputId": "d076acd8-87e5-41d9-d873-9fb3bff238d8"
      },
      "source": [
        "# list all data in history\n",
        "print(history.history.keys())\n",
        "\n",
        "# summarize history for training and validation accuracy\n",
        "plt.plot(history.history['accuracy'])\n",
        "plt.plot(history.history['val_accuracy'])\n",
        "plt.title('model accuracy')\n",
        "plt.ylabel('accuracy')\n",
        "plt.xlabel('epoch')\n",
        "plt.legend(['train', 'test'], loc='upper left')\n",
        "plt.show()\n",
        "\n",
        "# summarize history for training and validation loss\n",
        "plt.plot(history.history['loss'])\n",
        "plt.plot(history.history['val_loss'])\n",
        "plt.title('model loss')\n",
        "plt.ylabel('loss')\n",
        "plt.xlabel('epoch')\n",
        "plt.legend(['train', 'test'], loc='upper left')\n",
        "plt.show()"
      ],
      "execution_count": null,
      "outputs": [
        {
          "output_type": "stream",
          "name": "stdout",
          "text": [
            "dict_keys(['loss', 'accuracy', 'precision', 'recall', 'val_loss', 'val_accuracy', 'val_precision', 'val_recall'])\n"
          ]
        },
        {
          "output_type": "display_data",
          "data": {
            "image/png": "[encoded data removed]",
            "text/plain": [
              "<Figure size 432x288 with 1 Axes>"
            ]
          },
          "metadata": {
            "needs_background": "light"
          }
        },
        {
          "output_type": "display_data",
          "data": {
            "image/png": "[encoded data removed]",
            "text/plain": [
              "<Figure size 432x288 with 1 Axes>"
            ]
          },
          "metadata": {
            "needs_background": "light"
          }
        }
      ]
    },
    {
      "cell_type": "code",
      "metadata": {
        "id": "yL3Xr2vd8Bz5"
      },
      "source": [
        "\n",
        "\n",
        "model = Sequential()\n",
        "model.add(Dense(96, input_dim=13, activation='relu'))\n",
        "model.add(Dense(88, activation='relu'))\n",
        "model.add(Dense(44, activation='relu'))\n",
        "model.add(Dense(22, activation='relu'))\n",
        "model.add(Dense(10, activation='relu'))\n",
        "model.add(Dense(5, activation='relu'))\n",
        "model.add(Dense(3, activation='relu'))\n",
        "model.add(Dense(1, activation='sigmoid'))\n",
        "model.compile(optimizer='Adam',\n",
        "              loss='binary_crossentropy',\n",
        "              metrics=['accuracy', tf.keras.metrics.Precision(), tf.keras.metrics.Recall()])\n"
      ],
      "execution_count": null,
      "outputs": []
    },
    {
      "cell_type": "code",
      "metadata": {
        "colab": {
          "base_uri": "https://localhost:8080/"
        },
        "id": "pMqaaVETC5X_",
        "outputId": "2d7ed976-9ec4-4602-a4a8-b914d6851cc2"
      },
      "source": [
        "training_history=model.fit(x_train, y_train, validation_data=(x_test,y_test), epochs = 100, batch_size=20,verbose=1)"
      ],
      "execution_count": null,
      "outputs": [
        {
          "output_type": "stream",
          "name": "stdout",
          "text": [
            "Epoch 1/100\n",
            "1300/1300 [==============================] - 5s 3ms/step - loss: 0.5381 - accuracy: 0.7617 - precision_3: 0.7376 - recall_3: 0.8141 - val_loss: 0.4532 - val_accuracy: 0.8164 - val_precision_3: 0.7649 - val_recall_3: 0.9115\n",
            "Epoch 2/100\n",
            "1300/1300 [==============================] - 4s 3ms/step - loss: 0.4147 - accuracy: 0.8427 - precision_3: 0.8428 - recall_3: 0.8433 - val_loss: 0.3681 - val_accuracy: 0.8676 - val_precision_3: 0.8676 - val_recall_3: 0.8663\n",
            "Epoch 3/100\n",
            "1300/1300 [==============================] - 3s 3ms/step - loss: 0.3711 - accuracy: 0.8573 - precision_3: 0.8492 - recall_3: 0.8695 - val_loss: 0.3427 - val_accuracy: 0.8672 - val_precision_3: 0.8410 - val_recall_3: 0.9043\n",
            "Epoch 4/100\n",
            "1300/1300 [==============================] - 4s 3ms/step - loss: 0.3467 - accuracy: 0.8646 - precision_3: 0.8546 - recall_3: 0.8793 - val_loss: 0.3274 - val_accuracy: 0.8739 - val_precision_3: 0.8595 - val_recall_3: 0.8927\n",
            "Epoch 5/100\n",
            "1300/1300 [==============================] - 4s 3ms/step - loss: 0.3342 - accuracy: 0.8687 - precision_3: 0.8575 - recall_3: 0.8851 - val_loss: 0.3197 - val_accuracy: 0.8736 - val_precision_3: 0.8570 - val_recall_3: 0.8956\n",
            "Epoch 6/100\n",
            "1300/1300 [==============================] - 4s 3ms/step - loss: 0.3246 - accuracy: 0.8703 - precision_3: 0.8586 - recall_3: 0.8873 - val_loss: 0.4112 - val_accuracy: 0.8281 - val_precision_3: 0.9218 - val_recall_3: 0.7154\n",
            "Epoch 7/100\n",
            "1300/1300 [==============================] - 4s 3ms/step - loss: 0.3227 - accuracy: 0.8718 - precision_3: 0.8604 - recall_3: 0.8882 - val_loss: 0.3506 - val_accuracy: 0.8546 - val_precision_3: 0.9083 - val_recall_3: 0.7874\n",
            "Epoch 8/100\n",
            "1300/1300 [==============================] - 3s 3ms/step - loss: 0.3163 - accuracy: 0.8734 - precision_3: 0.8617 - recall_3: 0.8902 - val_loss: 0.3071 - val_accuracy: 0.8787 - val_precision_3: 0.8739 - val_recall_3: 0.8840\n",
            "Epoch 9/100\n",
            "1300/1300 [==============================] - 4s 3ms/step - loss: 0.3118 - accuracy: 0.8750 - precision_3: 0.8617 - recall_3: 0.8942 - val_loss: 0.3005 - val_accuracy: 0.8803 - val_precision_3: 0.8544 - val_recall_3: 0.9157\n",
            "Epoch 10/100\n",
            "1300/1300 [==============================] - 4s 3ms/step - loss: 0.3091 - accuracy: 0.8747 - precision_3: 0.8628 - recall_3: 0.8917 - val_loss: 0.2924 - val_accuracy: 0.8811 - val_precision_3: 0.8736 - val_recall_3: 0.8901\n",
            "Epoch 11/100\n",
            "1300/1300 [==============================] - 3s 3ms/step - loss: 0.3025 - accuracy: 0.8766 - precision_3: 0.8645 - recall_3: 0.8939 - val_loss: 0.2911 - val_accuracy: 0.8825 - val_precision_3: 0.8683 - val_recall_3: 0.9006\n",
            "Epoch 12/100\n",
            "1300/1300 [==============================] - 3s 3ms/step - loss: 0.3022 - accuracy: 0.8757 - precision_3: 0.8624 - recall_3: 0.8946 - val_loss: 0.2950 - val_accuracy: 0.8798 - val_precision_3: 0.8575 - val_recall_3: 0.9098\n",
            "Epoch 13/100\n",
            "1300/1300 [==============================] - 4s 3ms/step - loss: 0.2992 - accuracy: 0.8764 - precision_3: 0.8648 - recall_3: 0.8930 - val_loss: 0.2892 - val_accuracy: 0.8802 - val_precision_3: 0.8735 - val_recall_3: 0.8881\n",
            "Epoch 14/100\n",
            "1300/1300 [==============================] - 4s 3ms/step - loss: 0.2927 - accuracy: 0.8807 - precision_3: 0.8669 - recall_3: 0.9001 - val_loss: 0.3037 - val_accuracy: 0.8745 - val_precision_3: 0.8413 - val_recall_3: 0.9220\n",
            "Epoch 15/100\n",
            "1300/1300 [==============================] - 3s 3ms/step - loss: 0.2915 - accuracy: 0.8801 - precision_3: 0.8676 - recall_3: 0.8978 - val_loss: 0.2842 - val_accuracy: 0.8822 - val_precision_3: 0.8518 - val_recall_3: 0.9243\n",
            "Epoch 16/100\n",
            "1300/1300 [==============================] - 4s 3ms/step - loss: 0.2869 - accuracy: 0.8818 - precision_3: 0.8699 - recall_3: 0.8986 - val_loss: 0.3022 - val_accuracy: 0.8780 - val_precision_3: 0.8380 - val_recall_3: 0.9360\n",
            "Epoch 17/100\n",
            "1300/1300 [==============================] - 4s 3ms/step - loss: 0.2889 - accuracy: 0.8799 - precision_3: 0.8686 - recall_3: 0.8959 - val_loss: 0.2971 - val_accuracy: 0.8731 - val_precision_3: 0.8476 - val_recall_3: 0.9086\n",
            "Epoch 18/100\n",
            "1300/1300 [==============================] - 4s 3ms/step - loss: 0.2839 - accuracy: 0.8834 - precision_3: 0.8729 - recall_3: 0.8981 - val_loss: 0.2722 - val_accuracy: 0.8871 - val_precision_3: 0.8712 - val_recall_3: 0.9073\n",
            "Epoch 19/100\n",
            "1300/1300 [==============================] - 4s 3ms/step - loss: 0.2847 - accuracy: 0.8848 - precision_3: 0.8734 - recall_3: 0.9005 - val_loss: 0.2939 - val_accuracy: 0.8810 - val_precision_3: 0.8979 - val_recall_3: 0.8587\n",
            "Epoch 20/100\n",
            "1300/1300 [==============================] - 4s 3ms/step - loss: 0.2805 - accuracy: 0.8859 - precision_3: 0.8753 - recall_3: 0.9006 - val_loss: 0.2769 - val_accuracy: 0.8859 - val_precision_3: 0.8874 - val_recall_3: 0.8828\n",
            "Epoch 21/100\n",
            "1300/1300 [==============================] - 3s 3ms/step - loss: 0.2789 - accuracy: 0.8842 - precision_3: 0.8735 - recall_3: 0.8991 - val_loss: 0.2730 - val_accuracy: 0.8864 - val_precision_3: 0.8765 - val_recall_3: 0.8985\n",
            "Epoch 22/100\n",
            "1300/1300 [==============================] - 3s 3ms/step - loss: 0.2766 - accuracy: 0.8882 - precision_3: 0.8761 - recall_3: 0.9049 - val_loss: 0.2698 - val_accuracy: 0.8885 - val_precision_3: 0.8874 - val_recall_3: 0.8888\n",
            "Epoch 23/100\n",
            "1300/1300 [==============================] - 3s 3ms/step - loss: 0.2748 - accuracy: 0.8884 - precision_3: 0.8771 - recall_3: 0.9039 - val_loss: 0.2687 - val_accuracy: 0.8884 - val_precision_3: 0.8899 - val_recall_3: 0.8855\n",
            "Epoch 24/100\n",
            "1300/1300 [==============================] - 3s 3ms/step - loss: 0.2721 - accuracy: 0.8875 - precision_3: 0.8764 - recall_3: 0.9027 - val_loss: 0.2975 - val_accuracy: 0.8758 - val_precision_3: 0.8283 - val_recall_3: 0.9469\n",
            "Epoch 25/100\n",
            "1300/1300 [==============================] - 4s 3ms/step - loss: 0.2700 - accuracy: 0.8907 - precision_3: 0.8791 - recall_3: 0.9064 - val_loss: 0.2997 - val_accuracy: 0.8813 - val_precision_3: 0.8991 - val_recall_3: 0.8579\n",
            "Epoch 26/100\n",
            "1300/1300 [==============================] - 3s 3ms/step - loss: 0.2731 - accuracy: 0.8881 - precision_3: 0.8778 - recall_3: 0.9023 - val_loss: 0.2804 - val_accuracy: 0.8817 - val_precision_3: 0.8477 - val_recall_3: 0.9294\n",
            "Epoch 27/100\n",
            "1300/1300 [==============================] - 3s 3ms/step - loss: 0.2704 - accuracy: 0.8894 - precision_3: 0.8779 - recall_3: 0.9053 - val_loss: 0.2649 - val_accuracy: 0.8905 - val_precision_3: 0.8760 - val_recall_3: 0.9088\n",
            "Epoch 28/100\n",
            "1300/1300 [==============================] - 4s 3ms/step - loss: 0.2678 - accuracy: 0.8902 - precision_3: 0.8779 - recall_3: 0.9070 - val_loss: 0.2692 - val_accuracy: 0.8859 - val_precision_3: 0.9042 - val_recall_3: 0.8623\n",
            "Epoch 29/100\n",
            "1300/1300 [==============================] - 4s 3ms/step - loss: 0.2687 - accuracy: 0.8887 - precision_3: 0.8787 - recall_3: 0.9024 - val_loss: 0.2686 - val_accuracy: 0.8871 - val_precision_3: 0.8682 - val_recall_3: 0.9118\n",
            "Epoch 30/100\n",
            "1300/1300 [==============================] - 3s 3ms/step - loss: 0.2630 - accuracy: 0.8923 - precision_3: 0.8809 - recall_3: 0.9080 - val_loss: 0.3309 - val_accuracy: 0.8607 - val_precision_3: 0.9195 - val_recall_3: 0.7894\n",
            "Epoch 31/100\n",
            "1300/1300 [==============================] - 4s 3ms/step - loss: 0.2639 - accuracy: 0.8911 - precision_3: 0.8811 - recall_3: 0.9047 - val_loss: 0.2627 - val_accuracy: 0.8930 - val_precision_3: 0.8692 - val_recall_3: 0.9243\n",
            "Epoch 32/100\n",
            "1300/1300 [==============================] - 4s 3ms/step - loss: 0.2650 - accuracy: 0.8926 - precision_3: 0.8810 - recall_3: 0.9084 - val_loss: 0.2812 - val_accuracy: 0.8839 - val_precision_3: 0.9038 - val_recall_3: 0.8581\n",
            "Epoch 33/100\n",
            "1300/1300 [==============================] - 4s 3ms/step - loss: 0.2629 - accuracy: 0.8920 - precision_3: 0.8813 - recall_3: 0.9064 - val_loss: 0.2602 - val_accuracy: 0.8934 - val_precision_3: 0.8728 - val_recall_3: 0.9201\n",
            "Epoch 34/100\n",
            "1300/1300 [==============================] - 4s 3ms/step - loss: 0.2622 - accuracy: 0.8931 - precision_3: 0.8798 - recall_3: 0.9112 - val_loss: 0.3076 - val_accuracy: 0.8680 - val_precision_3: 0.9166 - val_recall_3: 0.8085\n",
            "Epoch 35/100\n",
            "1300/1300 [==============================] - 4s 3ms/step - loss: 0.2598 - accuracy: 0.8947 - precision_3: 0.8850 - recall_3: 0.9077 - val_loss: 0.2924 - val_accuracy: 0.8809 - val_precision_3: 0.8859 - val_recall_3: 0.8734\n",
            "Epoch 36/100\n",
            "1300/1300 [==============================] - 4s 3ms/step - loss: 0.2605 - accuracy: 0.8934 - precision_3: 0.8830 - recall_3: 0.9075 - val_loss: 0.2669 - val_accuracy: 0.8888 - val_precision_3: 0.9076 - val_recall_3: 0.8647\n",
            "Epoch 37/100\n",
            "1300/1300 [==============================] - 4s 3ms/step - loss: 0.2596 - accuracy: 0.8932 - precision_3: 0.8821 - recall_3: 0.9081 - val_loss: 0.2639 - val_accuracy: 0.8918 - val_precision_3: 0.8629 - val_recall_3: 0.9306\n",
            "Epoch 38/100\n",
            "1300/1300 [==============================] - 4s 3ms/step - loss: 0.2590 - accuracy: 0.8943 - precision_3: 0.8834 - recall_3: 0.9090 - val_loss: 0.2640 - val_accuracy: 0.8938 - val_precision_3: 0.8938 - val_recall_3: 0.8929\n",
            "Epoch 39/100\n",
            "1300/1300 [==============================] - 4s 3ms/step - loss: 0.2552 - accuracy: 0.8951 - precision_3: 0.8850 - recall_3: 0.9087 - val_loss: 0.2645 - val_accuracy: 0.8915 - val_precision_3: 0.8869 - val_recall_3: 0.8964\n",
            "Epoch 40/100\n",
            "1300/1300 [==============================] - 4s 3ms/step - loss: 0.2533 - accuracy: 0.8970 - precision_3: 0.8853 - recall_3: 0.9126 - val_loss: 0.2527 - val_accuracy: 0.8957 - val_precision_3: 0.8921 - val_recall_3: 0.8993\n",
            "Epoch 41/100\n",
            "1300/1300 [==============================] - 4s 3ms/step - loss: 0.2546 - accuracy: 0.8952 - precision_3: 0.8847 - recall_3: 0.9093 - val_loss: 0.2621 - val_accuracy: 0.8934 - val_precision_3: 0.8979 - val_recall_3: 0.8867\n",
            "Epoch 42/100\n",
            "1300/1300 [==============================] - 4s 3ms/step - loss: 0.2538 - accuracy: 0.8965 - precision_3: 0.8852 - recall_3: 0.9117 - val_loss: 0.2728 - val_accuracy: 0.8932 - val_precision_3: 0.8684 - val_recall_3: 0.9258\n",
            "Epoch 43/100\n",
            "1300/1300 [==============================] - 4s 3ms/step - loss: 0.2528 - accuracy: 0.8961 - precision_3: 0.8858 - recall_3: 0.9100 - val_loss: 0.2573 - val_accuracy: 0.8921 - val_precision_3: 0.8844 - val_recall_3: 0.9010\n",
            "Epoch 44/100\n",
            "1300/1300 [==============================] - 4s 3ms/step - loss: 0.2509 - accuracy: 0.8955 - precision_3: 0.8854 - recall_3: 0.9092 - val_loss: 0.2641 - val_accuracy: 0.8924 - val_precision_3: 0.8935 - val_recall_3: 0.8901\n",
            "Epoch 45/100\n",
            "1300/1300 [==============================] - 4s 3ms/step - loss: 0.2525 - accuracy: 0.8972 - precision_3: 0.8887 - recall_3: 0.9087 - val_loss: 0.2831 - val_accuracy: 0.8842 - val_precision_3: 0.8462 - val_recall_3: 0.9380\n",
            "Epoch 46/100\n",
            "1300/1300 [==============================] - 4s 3ms/step - loss: 0.2486 - accuracy: 0.8990 - precision_3: 0.8878 - recall_3: 0.9139 - val_loss: 0.2511 - val_accuracy: 0.8962 - val_precision_3: 0.8827 - val_recall_3: 0.9129\n",
            "Epoch 47/100\n",
            "1300/1300 [==============================] - 4s 3ms/step - loss: 0.2495 - accuracy: 0.8964 - precision_3: 0.8868 - recall_3: 0.9093 - val_loss: 0.2687 - val_accuracy: 0.8882 - val_precision_3: 0.9156 - val_recall_3: 0.8543\n",
            "Epoch 48/100\n",
            "1300/1300 [==============================] - 4s 3ms/step - loss: 0.2471 - accuracy: 0.8981 - precision_3: 0.8885 - recall_3: 0.9110 - val_loss: 0.2736 - val_accuracy: 0.8901 - val_precision_3: 0.8679 - val_recall_3: 0.9191\n",
            "Epoch 49/100\n",
            "1300/1300 [==============================] - 4s 3ms/step - loss: 0.2459 - accuracy: 0.8988 - precision_3: 0.8878 - recall_3: 0.9136 - val_loss: 0.3132 - val_accuracy: 0.8709 - val_precision_3: 0.9167 - val_recall_3: 0.8148\n",
            "Epoch 50/100\n",
            "1300/1300 [==============================] - 4s 3ms/step - loss: 0.2472 - accuracy: 0.8988 - precision_3: 0.8890 - recall_3: 0.9120 - val_loss: 0.2601 - val_accuracy: 0.8899 - val_precision_3: 0.9053 - val_recall_3: 0.8698\n",
            "Epoch 51/100\n",
            "1300/1300 [==============================] - 4s 3ms/step - loss: 0.2437 - accuracy: 0.9003 - precision_3: 0.8894 - recall_3: 0.9149 - val_loss: 0.2668 - val_accuracy: 0.8876 - val_precision_3: 0.9062 - val_recall_3: 0.8636\n",
            "Epoch 52/100\n",
            "1300/1300 [==============================] - 4s 3ms/step - loss: 0.2441 - accuracy: 0.8996 - precision_3: 0.8893 - recall_3: 0.9133 - val_loss: 0.2611 - val_accuracy: 0.8933 - val_precision_3: 0.8851 - val_recall_3: 0.9029\n",
            "Epoch 53/100\n",
            "1300/1300 [==============================] - 4s 3ms/step - loss: 0.2414 - accuracy: 0.9010 - precision_3: 0.8908 - recall_3: 0.9145 - val_loss: 0.2539 - val_accuracy: 0.8961 - val_precision_3: 0.8758 - val_recall_3: 0.9221\n",
            "Epoch 54/100\n",
            "1300/1300 [==============================] - 4s 3ms/step - loss: 0.2430 - accuracy: 0.9004 - precision_3: 0.8912 - recall_3: 0.9126 - val_loss: 0.2649 - val_accuracy: 0.8876 - val_precision_3: 0.9073 - val_recall_3: 0.8623\n",
            "Epoch 55/100\n",
            "1300/1300 [==============================] - 4s 3ms/step - loss: 0.2409 - accuracy: 0.9009 - precision_3: 0.8891 - recall_3: 0.9166 - val_loss: 0.2653 - val_accuracy: 0.8874 - val_precision_3: 0.8824 - val_recall_3: 0.8930\n",
            "Epoch 56/100\n",
            "1300/1300 [==============================] - 4s 3ms/step - loss: 0.2418 - accuracy: 0.9001 - precision_3: 0.8918 - recall_3: 0.9112 - val_loss: 0.2535 - val_accuracy: 0.8958 - val_precision_3: 0.8871 - val_recall_3: 0.9061\n",
            "Epoch 57/100\n",
            "1300/1300 [==============================] - 4s 3ms/step - loss: 0.2378 - accuracy: 0.9009 - precision_3: 0.8911 - recall_3: 0.9139 - val_loss: 0.2512 - val_accuracy: 0.8959 - val_precision_3: 0.8970 - val_recall_3: 0.8936\n",
            "Epoch 58/100\n",
            "1300/1300 [==============================] - 4s 3ms/step - loss: 0.2378 - accuracy: 0.9008 - precision_3: 0.8911 - recall_3: 0.9138 - val_loss: 0.2768 - val_accuracy: 0.8861 - val_precision_3: 0.8517 - val_recall_3: 0.9339\n",
            "Epoch 59/100\n",
            "1300/1300 [==============================] - 4s 3ms/step - loss: 0.2378 - accuracy: 0.9025 - precision_3: 0.8921 - recall_3: 0.9163 - val_loss: 0.2478 - val_accuracy: 0.8999 - val_precision_3: 0.8853 - val_recall_3: 0.9178\n",
            "Epoch 60/100\n",
            "1300/1300 [==============================] - 4s 3ms/step - loss: 0.2363 - accuracy: 0.9029 - precision_3: 0.8942 - recall_3: 0.9144 - val_loss: 0.2507 - val_accuracy: 0.8989 - val_precision_3: 0.8775 - val_recall_3: 0.9264\n",
            "Epoch 61/100\n",
            "1300/1300 [==============================] - 4s 3ms/step - loss: 0.2350 - accuracy: 0.9027 - precision_3: 0.8924 - recall_3: 0.9162 - val_loss: 0.2671 - val_accuracy: 0.8928 - val_precision_3: 0.8665 - val_recall_3: 0.9276\n",
            "Epoch 62/100\n",
            "1300/1300 [==============================] - 4s 3ms/step - loss: 0.2357 - accuracy: 0.9025 - precision_3: 0.8918 - recall_3: 0.9166 - val_loss: 0.2599 - val_accuracy: 0.8948 - val_precision_3: 0.9029 - val_recall_3: 0.8838\n",
            "Epoch 63/100\n",
            "1300/1300 [==============================] - 4s 3ms/step - loss: 0.2359 - accuracy: 0.9006 - precision_3: 0.8906 - recall_3: 0.9138 - val_loss: 0.2620 - val_accuracy: 0.8934 - val_precision_3: 0.8681 - val_recall_3: 0.9269\n",
            "Epoch 64/100\n",
            "1300/1300 [==============================] - 4s 3ms/step - loss: 0.2336 - accuracy: 0.9035 - precision_3: 0.8918 - recall_3: 0.9189 - val_loss: 0.2490 - val_accuracy: 0.8986 - val_precision_3: 0.8727 - val_recall_3: 0.9323\n",
            "Epoch 65/100\n",
            "1300/1300 [==============================] - 4s 3ms/step - loss: 0.2300 - accuracy: 0.9050 - precision_3: 0.8946 - recall_3: 0.9187 - val_loss: 0.2705 - val_accuracy: 0.8921 - val_precision_3: 0.8876 - val_recall_3: 0.8969\n",
            "Epoch 66/100\n",
            "1300/1300 [==============================] - 4s 3ms/step - loss: 0.2327 - accuracy: 0.9045 - precision_3: 0.8940 - recall_3: 0.9183 - val_loss: 0.2924 - val_accuracy: 0.8864 - val_precision_3: 0.9055 - val_recall_3: 0.8619\n",
            "Epoch 67/100\n",
            "1300/1300 [==============================] - 4s 3ms/step - loss: 0.2320 - accuracy: 0.9035 - precision_3: 0.8917 - recall_3: 0.9191 - val_loss: 0.2650 - val_accuracy: 0.8870 - val_precision_3: 0.9122 - val_recall_3: 0.8554\n",
            "Epoch 68/100\n",
            "1300/1300 [==============================] - 4s 3ms/step - loss: 0.2313 - accuracy: 0.9048 - precision_3: 0.8960 - recall_3: 0.9163 - val_loss: 0.2524 - val_accuracy: 0.8963 - val_precision_3: 0.8848 - val_recall_3: 0.9102\n",
            "Epoch 69/100\n",
            "1300/1300 [==============================] - 4s 3ms/step - loss: 0.2286 - accuracy: 0.9050 - precision_3: 0.8931 - recall_3: 0.9206 - val_loss: 0.2722 - val_accuracy: 0.8851 - val_precision_3: 0.8824 - val_recall_3: 0.8877\n",
            "Epoch 70/100\n",
            "1300/1300 [==============================] - 4s 3ms/step - loss: 0.2288 - accuracy: 0.9047 - precision_3: 0.8941 - recall_3: 0.9185 - val_loss: 0.2524 - val_accuracy: 0.8964 - val_precision_3: 0.8965 - val_recall_3: 0.8953\n",
            "Epoch 71/100\n",
            "1300/1300 [==============================] - 4s 3ms/step - loss: 0.2279 - accuracy: 0.9064 - precision_3: 0.8962 - recall_3: 0.9197 - val_loss: 0.2664 - val_accuracy: 0.8864 - val_precision_3: 0.9107 - val_recall_3: 0.8557\n",
            "Epoch 72/100\n",
            "1300/1300 [==============================] - 4s 3ms/step - loss: 0.2269 - accuracy: 0.9057 - precision_3: 0.8947 - recall_3: 0.9202 - val_loss: 0.2497 - val_accuracy: 0.9006 - val_precision_3: 0.8804 - val_recall_3: 0.9263\n",
            "Epoch 73/100\n",
            "1300/1300 [==============================] - 4s 3ms/step - loss: 0.2260 - accuracy: 0.9068 - precision_3: 0.8957 - recall_3: 0.9212 - val_loss: 0.2480 - val_accuracy: 0.9019 - val_precision_3: 0.8773 - val_recall_3: 0.9334\n",
            "Epoch 74/100\n",
            "1300/1300 [==============================] - 4s 3ms/step - loss: 0.2273 - accuracy: 0.9073 - precision_3: 0.8968 - recall_3: 0.9210 - val_loss: 0.2520 - val_accuracy: 0.9000 - val_precision_3: 0.9018 - val_recall_3: 0.8969\n",
            "Epoch 75/100\n",
            "1300/1300 [==============================] - 4s 3ms/step - loss: 0.2249 - accuracy: 0.9062 - precision_3: 0.8949 - recall_3: 0.9211 - val_loss: 0.2485 - val_accuracy: 0.8976 - val_precision_3: 0.8769 - val_recall_3: 0.9240\n",
            "Epoch 76/100\n",
            "1300/1300 [==============================] - 4s 3ms/step - loss: 0.2247 - accuracy: 0.9072 - precision_3: 0.8959 - recall_3: 0.9219 - val_loss: 0.2470 - val_accuracy: 0.8992 - val_precision_3: 0.8942 - val_recall_3: 0.9046\n",
            "Epoch 77/100\n",
            "1300/1300 [==============================] - 4s 3ms/step - loss: 0.2254 - accuracy: 0.9066 - precision_3: 0.8966 - recall_3: 0.9196 - val_loss: 0.2606 - val_accuracy: 0.8955 - val_precision_3: 0.8955 - val_recall_3: 0.8946\n",
            "Epoch 78/100\n",
            "1300/1300 [==============================] - 4s 3ms/step - loss: 0.2234 - accuracy: 0.9068 - precision_3: 0.8960 - recall_3: 0.9209 - val_loss: 0.2453 - val_accuracy: 0.9016 - val_precision_3: 0.8892 - val_recall_3: 0.9165\n",
            "Epoch 79/100\n",
            "1300/1300 [==============================] - 4s 3ms/step - loss: 0.2215 - accuracy: 0.9096 - precision_3: 0.8978 - recall_3: 0.9249 - val_loss: 0.2512 - val_accuracy: 0.8981 - val_precision_3: 0.8834 - val_recall_3: 0.9164\n",
            "Epoch 80/100\n",
            "1300/1300 [==============================] - 4s 3ms/step - loss: 0.2220 - accuracy: 0.9079 - precision_3: 0.8978 - recall_3: 0.9211 - val_loss: 0.2670 - val_accuracy: 0.8926 - val_precision_3: 0.9126 - val_recall_3: 0.8675\n",
            "Epoch 81/100\n",
            "1300/1300 [==============================] - 4s 3ms/step - loss: 0.2210 - accuracy: 0.9088 - precision_3: 0.8977 - recall_3: 0.9231 - val_loss: 0.2489 - val_accuracy: 0.8996 - val_precision_3: 0.8860 - val_recall_3: 0.9162\n",
            "Epoch 82/100\n",
            "1300/1300 [==============================] - 4s 3ms/step - loss: 0.2207 - accuracy: 0.9085 - precision_3: 0.8985 - recall_3: 0.9216 - val_loss: 0.2512 - val_accuracy: 0.9012 - val_precision_3: 0.8909 - val_recall_3: 0.9135\n",
            "Epoch 83/100\n",
            "1300/1300 [==============================] - 4s 3ms/step - loss: 0.2205 - accuracy: 0.9086 - precision_3: 0.8978 - recall_3: 0.9226 - val_loss: 0.2578 - val_accuracy: 0.8965 - val_precision_3: 0.8854 - val_recall_3: 0.9099\n",
            "Epoch 84/100\n",
            "1300/1300 [==============================] - 4s 3ms/step - loss: 0.2194 - accuracy: 0.9107 - precision_3: 0.8989 - recall_3: 0.9259 - val_loss: 0.2628 - val_accuracy: 0.8929 - val_precision_3: 0.8801 - val_recall_3: 0.9088\n",
            "Epoch 85/100\n",
            "1300/1300 [==============================] - 4s 3ms/step - loss: 0.2178 - accuracy: 0.9105 - precision_3: 0.8997 - recall_3: 0.9243 - val_loss: 0.2611 - val_accuracy: 0.8950 - val_precision_3: 0.8754 - val_recall_3: 0.9201\n",
            "Epoch 86/100\n",
            "1300/1300 [==============================] - 4s 3ms/step - loss: 0.2186 - accuracy: 0.9083 - precision_3: 0.8968 - recall_3: 0.9234 - val_loss: 0.2668 - val_accuracy: 0.8951 - val_precision_3: 0.8907 - val_recall_3: 0.8997\n",
            "Epoch 87/100\n",
            "1300/1300 [==============================] - 4s 3ms/step - loss: 0.2168 - accuracy: 0.9106 - precision_3: 0.9009 - recall_3: 0.9232 - val_loss: 0.2554 - val_accuracy: 0.8990 - val_precision_3: 0.8905 - val_recall_3: 0.9089\n",
            "Epoch 88/100\n",
            "1300/1300 [==============================] - 4s 3ms/step - loss: 0.2162 - accuracy: 0.9108 - precision_3: 0.8994 - recall_3: 0.9256 - val_loss: 0.2446 - val_accuracy: 0.9002 - val_precision_3: 0.9013 - val_recall_3: 0.8980\n",
            "Epoch 89/100\n",
            "1300/1300 [==============================] - 4s 3ms/step - loss: 0.2151 - accuracy: 0.9108 - precision_3: 0.9010 - recall_3: 0.9233 - val_loss: 0.2405 - val_accuracy: 0.9044 - val_precision_3: 0.9021 - val_recall_3: 0.9065\n",
            "Epoch 90/100\n",
            "1300/1300 [==============================] - 4s 3ms/step - loss: 0.2164 - accuracy: 0.9113 - precision_3: 0.9013 - recall_3: 0.9242 - val_loss: 0.2547 - val_accuracy: 0.8974 - val_precision_3: 0.8962 - val_recall_3: 0.8980\n",
            "Epoch 91/100\n",
            "1300/1300 [==============================] - 4s 3ms/step - loss: 0.2175 - accuracy: 0.9097 - precision_3: 0.9002 - recall_3: 0.9220 - val_loss: 0.2432 - val_accuracy: 0.9021 - val_precision_3: 0.8993 - val_recall_3: 0.9048\n",
            "Epoch 92/100\n",
            "1300/1300 [==============================] - 4s 3ms/step - loss: 0.2130 - accuracy: 0.9115 - precision_3: 0.9013 - recall_3: 0.9248 - val_loss: 0.2535 - val_accuracy: 0.8987 - val_precision_3: 0.8756 - val_recall_3: 0.9286\n",
            "Epoch 93/100\n",
            "1300/1300 [==============================] - 4s 3ms/step - loss: 0.2132 - accuracy: 0.9114 - precision_3: 0.9003 - recall_3: 0.9258 - val_loss: 0.2524 - val_accuracy: 0.9009 - val_precision_3: 0.8778 - val_recall_3: 0.9306\n",
            "Epoch 94/100\n",
            "1300/1300 [==============================] - 4s 3ms/step - loss: 0.2131 - accuracy: 0.9105 - precision_3: 0.8994 - recall_3: 0.9248 - val_loss: 0.2577 - val_accuracy: 0.8996 - val_precision_3: 0.8799 - val_recall_3: 0.9246\n",
            "Epoch 95/100\n",
            "1300/1300 [==============================] - 4s 3ms/step - loss: 0.2138 - accuracy: 0.9113 - precision_3: 0.9000 - recall_3: 0.9259 - val_loss: 0.2488 - val_accuracy: 0.9014 - val_precision_3: 0.8758 - val_recall_3: 0.9346\n",
            "Epoch 96/100\n",
            "1300/1300 [==============================] - 4s 3ms/step - loss: 0.2126 - accuracy: 0.9110 - precision_3: 0.9026 - recall_3: 0.9218 - val_loss: 0.2536 - val_accuracy: 0.9003 - val_precision_3: 0.8925 - val_recall_3: 0.9094\n",
            "Epoch 97/100\n",
            "1300/1300 [==============================] - 4s 3ms/step - loss: 0.2116 - accuracy: 0.9124 - precision_3: 0.9015 - recall_3: 0.9263 - val_loss: 0.2507 - val_accuracy: 0.8948 - val_precision_3: 0.9073 - val_recall_3: 0.8785\n",
            "Epoch 98/100\n",
            "1300/1300 [==============================] - 4s 3ms/step - loss: 0.2118 - accuracy: 0.9120 - precision_3: 0.9011 - recall_3: 0.9259 - val_loss: 0.2515 - val_accuracy: 0.9003 - val_precision_3: 0.8847 - val_recall_3: 0.9197\n",
            "Epoch 99/100\n",
            "1300/1300 [==============================] - 4s 3ms/step - loss: 0.2111 - accuracy: 0.9131 - precision_3: 0.9021 - recall_3: 0.9272 - val_loss: 0.2738 - val_accuracy: 0.8936 - val_precision_3: 0.8960 - val_recall_3: 0.8897\n",
            "Epoch 100/100\n",
            "1300/1300 [==============================] - 4s 3ms/step - loss: 0.2111 - accuracy: 0.9133 - precision_3: 0.9041 - recall_3: 0.9252 - val_loss: 0.2432 - val_accuracy: 0.9015 - val_precision_3: 0.8921 - val_recall_3: 0.9127\n"
          ]
        }
      ]
    },
    {
      "cell_type": "code",
      "metadata": {
        "id": "dNfshz9dz_Iy"
      },
      "source": [
        "from keras.models import load_model\n",
        "\n",
        "model.save('my_model.h5')  # creates a HDF5 file 'my_model.h5'\n",
        "del model  # deletes the existing model\n",
        "\n"
      ],
      "execution_count": null,
      "outputs": []
    },
    {
      "cell_type": "code",
      "metadata": {
        "colab": {
          "base_uri": "https://localhost:8080/",
          "height": 590
        },
        "id": "659qsCVNC__S",
        "outputId": "20d29920-9b92-4962-b03a-86271b624607"
      },
      "source": [
        "# list all data in history\n",
        "print(history.history.keys())\n",
        "\n",
        "# summarize history for training and validation accuracy\n",
        "plt.plot(training_history.history['accuracy'])\n",
        "plt.plot(training_history.history['val_accuracy'])\n",
        "plt.title('model accuracy')\n",
        "plt.ylabel('accuracy')\n",
        "plt.xlabel('epoch')\n",
        "plt.legend(['train', 'test'], loc='upper left')\n",
        "plt.show()\n",
        "\n",
        "# summarize history for training and validation loss\n",
        "plt.plot(training_history.history['loss'])\n",
        "plt.plot(training_history.history['val_loss'])\n",
        "plt.title('model loss')\n",
        "plt.ylabel('loss')\n",
        "plt.xlabel('epoch')\n",
        "plt.legend(['train', 'test'], loc='upper left')\n",
        "plt.show()"
      ],
      "execution_count": null,
      "outputs": [
        {
          "output_type": "stream",
          "name": "stdout",
          "text": [
            "dict_keys(['loss', 'accuracy', 'precision', 'recall', 'val_loss', 'val_accuracy', 'val_precision', 'val_recall'])\n"
          ]
        },
        {
          "output_type": "display_data",
          "data": {
            "image/png": "[encoded data removed]",
            "text/plain": [
              "<Figure size 432x288 with 1 Axes>"
            ]
          },
          "metadata": {
            "needs_background": "light"
          }
        },
        {
          "output_type": "display_data",
          "data": {
            "image/png": "[encoded data removed]",
            "text/plain": [
              "<Figure size 432x288 with 1 Axes>"
            ]
          },
          "metadata": {
            "needs_background": "light"
          }
        }
      ]
    },
    {
      "cell_type": "code",
      "metadata": {
        "colab": {
          "base_uri": "https://localhost:8080/"
        },
        "id": "c5_JqU3HEElg",
        "outputId": "d8a2ecd7-c26b-429e-f656-deac86441768"
      },
      "source": [
        "from tensorflow.keras.models import load_model\n",
        "# load the saved model\n",
        "saved_model = load_model('/content/drive/MyDrive/Colab Notebooks/Final Models/Numeric_Model_Two_Language.h5')\n",
        "saved_model.summary()"
      ],
      "execution_count": null,
      "outputs": [
        {
          "name": "stdout",
          "output_type": "stream",
          "text": [
            "Model: \"sequential_16\"\n",
            "_________________________________________________________________\n",
            "Layer (type)                 Output Shape              Param #   \n",
            "=================================================================\n",
            "dense_125 (Dense)            (None, 96)                1344      \n",
            "_________________________________________________________________\n",
            "dense_126 (Dense)            (None, 88)                8536      \n",
            "_________________________________________________________________\n",
            "dense_127 (Dense)            (None, 44)                3916      \n",
            "_________________________________________________________________\n",
            "dense_128 (Dense)            (None, 22)                990       \n",
            "_________________________________________________________________\n",
            "dense_129 (Dense)            (None, 10)                230       \n",
            "_________________________________________________________________\n",
            "dense_130 (Dense)            (None, 5)                 55        \n",
            "_________________________________________________________________\n",
            "dense_131 (Dense)            (None, 3)                 18        \n",
            "_________________________________________________________________\n",
            "dense_132 (Dense)            (None, 1)                 4         \n",
            "=================================================================\n",
            "Total params: 15,093\n",
            "Trainable params: 15,093\n",
            "Non-trainable params: 0\n",
            "_________________________________________________________________\n"
          ]
        }
      ]
    },
    {
      "cell_type": "code",
      "metadata": {
        "id": "NN3lX4imIgpt"
      },
      "source": [
        "from tensorflow import keras\n",
        "model = keras.models.load_model('/content/my_model.h5')"
      ],
      "execution_count": null,
      "outputs": []
    },
    {
      "cell_type": "code",
      "metadata": {
        "id": "55_oEUSHJL50"
      },
      "source": [
        "results=model.predict(x_test)"
      ],
      "execution_count": null,
      "outputs": []
    },
    {
      "cell_type": "code",
      "metadata": {
        "colab": {
          "base_uri": "https://localhost:8080/"
        },
        "id": "XPq_lGDAKqNQ",
        "outputId": "e23ca0f6-83bc-42c3-827c-082b0f89560b"
      },
      "source": [
        "results"
      ],
      "execution_count": null,
      "outputs": [
        {
          "output_type": "execute_result",
          "data": {
            "text/plain": [
              "array([[9.9197972e-01],\n",
              "       [9.5573568e-01],\n",
              "       [9.9278665e-01],\n",
              "       ...,\n",
              "       [2.5294423e-02],\n",
              "       [6.1293519e-01],\n",
              "       [2.1557738e-05]], dtype=float32)"
            ]
          },
          "metadata": {},
          "execution_count": 13
        }
      ]
    },
    {
      "cell_type": "code",
      "metadata": {
        "id": "O8v-8ovqKtUH"
      },
      "source": [
        "for i in range(len(results)):\n",
        "    if results[i] < 0.5:\n",
        "        results[i] = 0\n",
        "    else:\n",
        "        results[i] = 1"
      ],
      "execution_count": null,
      "outputs": []
    },
    {
      "cell_type": "code",
      "metadata": {
        "colab": {
          "base_uri": "https://localhost:8080/"
        },
        "id": "msNatbnmLnyd",
        "outputId": "914eeadc-057c-469f-e0d0-0d0469bdba1a"
      },
      "source": [
        "from sklearn.metrics import confusion_matrix\n",
        "confusion_matrix(y_test, results)"
      ],
      "execution_count": null,
      "outputs": [
        {
          "output_type": "execute_result",
          "data": {
            "text/plain": [
              "array([[6300,  741],\n",
              "       [ 499, 6460]])"
            ]
          },
          "metadata": {},
          "execution_count": 34
        }
      ]
    },
    {
      "cell_type": "code",
      "metadata": {
        "colab": {
          "base_uri": "https://localhost:8080/"
        },
        "id": "dd3uI-UENkBy",
        "outputId": "bf3ee431-39dd-4f07-9196-a914c22e154b"
      },
      "source": [
        "import scikitplot as skplt\n",
        "import matplotlib.pyplot as plt\n",
        "\n",
        "y_true = # ground truth labels\n",
        "y_probas = # predicted probabilities generated by sklearn classifier\n",
        "skplt.metrics.plot_roc_curve(y_true, y_probas)\n",
        "plt.show()"
      ],
      "execution_count": null,
      "outputs": [
        {
          "output_type": "stream",
          "name": "stdout",
          "text": [
            "Accuracy: 0.911429\n",
            "Precision: 0.897098\n",
            "Recall: 0.928294\n",
            "F1 score: 0.912429\n",
            "ROC AUC: 0.911527\n",
            "[[6300  741]\n",
            " [ 499 6460]]\n"
          ]
        }
      ]
    },
    {
      "cell_type": "code",
      "metadata": {
        "colab": {
          "base_uri": "https://localhost:8080/",
          "height": 279
        },
        "id": "rn_ukhwDOYj3",
        "outputId": "8758305f-2cc6-44c4-9a97-d12c77aab73a"
      },
      "source": [
        "from sklearn.metrics import roc_auc_score\n",
        "\n",
        "fpr, tpr, _ = roc_curve(y_test,  results)\n",
        "auc = roc_auc_score(y_test, results)\n",
        "\n",
        "#create ROC curve\n",
        "plt.plot(fpr,tpr,label=\"AUC=\"+str(auc))\n",
        "plt.ylabel('True Positive Rate')\n",
        "plt.xlabel('False Positive Rate')\n",
        "plt.legend(loc=4)\n",
        "plt.show()"
      ],
      "execution_count": null,
      "outputs": [
        {
          "output_type": "display_data",
          "data": {
            "image/png": "[encoded data removed]",
            "text/plain": [
              "<Figure size 432x288 with 1 Axes>"
            ]
          },
          "metadata": {
            "needs_background": "light"
          }
        }
      ]
    },
    {
      "cell_type": "code",
      "metadata": {
        "colab": {
          "base_uri": "https://localhost:8080/"
        },
        "id": "lwNcbAipW_tl",
        "outputId": "37e7851a-0140-424d-cb54-66fc3196d8a1"
      },
      "source": [
        "results.ravel()"
      ],
      "execution_count": null,
      "outputs": [
        {
          "output_type": "execute_result",
          "data": {
            "text/plain": [
              "array([1., 1., 1., ..., 0., 1., 0.], dtype=float32)"
            ]
          },
          "metadata": {},
          "execution_count": 57
        }
      ]
    },
    {
      "cell_type": "code",
      "metadata": {
        "id": "j_MGHDUhTYEb"
      },
      "source": [
        "import numpy as np\n",
        "import matplotlib.pyplot as plt\n",
        "import seaborn as sn\n",
        "import pandas as pd\n",
        "\n",
        "import seaborn as sns\n",
        "import math\n",
        "\n",
        "from mpl_toolkits.axes_grid1 import make_axes_locatable\n",
        "\n",
        "import matplotlib as mpl\n",
        "\n",
        "mpl.style.use('seaborn')\n",
        "\n",
        "conf_arr =confusion_matrix(y_test, results)\n",
        "\n",
        "sum = conf_arr.sum()\n",
        "\n",
        "conf_arr = conf_arr \n",
        "\n",
        "df_cm = pd.DataFrame(conf_arr, \n",
        "  index = [ 'Arabic','English'],\n",
        "  columns = [ 'Arabic','English'])\n",
        "\n",
        "fig = plt.figure()\n",
        "\n",
        "plt.clf()\n",
        "\n",
        "ax = fig.add_subplot(111)\n",
        "ax.set_aspect(1)\n",
        "\n",
        "cmap = sns.cubehelix_palette(light=1, as_cmap=True)\n",
        "\n",
        "res = sn.heatmap(df_cm, annot=True, vmin=0.0, vmax=10000.0, fmt='.2f', cmap=cmap)\n",
        "\n",
        "res.invert_yaxis()\n",
        "\n",
        "plt.yticks([0.5,1.5,2.5], [ 'Arabic', 'English'],va='center')\n",
        "\n",
        "plt.title('Confusion Matrix')\n",
        "\n",
        "plt.savefig('confusion_matrix.png', dpi=100, bbox_inches='tight' )\n",
        "\n",
        "plt.close()"
      ],
      "execution_count": null,
      "outputs": []
    },
    {
      "cell_type": "code",
      "metadata": {
        "id": "LIsb4Z0oW0Cy"
      },
      "source": [],
      "execution_count": null,
      "outputs": []
    }
  ]
}
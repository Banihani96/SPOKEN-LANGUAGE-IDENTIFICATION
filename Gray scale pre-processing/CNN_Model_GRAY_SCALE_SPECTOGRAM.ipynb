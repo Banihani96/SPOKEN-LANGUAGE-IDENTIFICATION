{
  "nbformat": 4,
  "nbformat_minor": 0,
  "metadata": {
    "colab": {
      "name": "GRAY SCALE SPECTOGRAM.ipynb",
      "provenance": []
    },
    "kernelspec": {
      "display_name": "Python 3",
      "name": "python3"
    },
    "language_info": {
      "name": "python"
    }
  },
  "cells": [
    {
      "cell_type": "code",
      "metadata": {
        "id": "MOstR-VL7Xfv"
      },
      "source": [
        "import numpy as np\n",
        "import matplotlib.pyplot as plt\n",
        "%matplotlib inline\n",
        "from tensorflow.keras.preprocessing.image import ImageDataGenerator\n",
        "import tensorflow as tf\n",
        "from sklearn.metrics import confusion_matrix\n",
        "import seaborn as sns\n",
        "from keras.preprocessing import image\n",
        "from tensorflow.keras.models import load_model\n",
        "from keras.layers import Dropout"
      ],
      "execution_count": null,
      "outputs": []
    },
    {
      "cell_type": "code",
      "metadata": {
        "id": "sxSfI6vJ7lbv"
      },
      "source": [
        "path_dir =\"/content/drive/MyDrive/data/train\""
      ],
      "execution_count": null,
      "outputs": []
    },
    {
      "cell_type": "code",
      "metadata": {
        "colab": {
          "base_uri": "https://localhost:8080/"
        },
        "id": "MsJh40i07oB_",
        "outputId": "8556e804-842c-4244-81d9-8d7745c9d0ce"
      },
      "source": [
        "datagen = ImageDataGenerator(\n",
        "                    rescale=1./255,\n",
        "                    validation_split = 0.25)\n",
        "train_generator = datagen.flow_from_directory(\n",
        "    path_dir,\n",
        "    target_size=(150,150),\n",
        "    shuffle=True,\n",
        "    subset='training',\n",
        "    color_mode='grayscale')\n",
        "validation_generator = datagen.flow_from_directory(\n",
        "    path_dir,\n",
        "    target_size=(150,150),\n",
        "    shuffle=True,\n",
        "    subset='validation',\n",
        "    color_mode='grayscale')"
      ],
      "execution_count": null,
      "outputs": [
        {
          "output_type": "stream",
          "name": "stdout",
          "text": [
            "Found 0 images belonging to 2 classes.\n",
            "Found 0 images belonging to 2 classes.\n"
          ]
        }
      ]
    },
    {
      "cell_type": "code",
      "metadata": {
        "id": "deBDnyAN-im5"
      },
      "source": [
        "model = tf.keras.models.Sequential([\n",
        "    #first_convolution\n",
        "    tf.keras.layers.Conv2D(32, (3,3), activation='relu', input_shape=(150, 150, 1)),\n",
        "    tf.keras.layers.MaxPooling2D(2, 2),\n",
        "    #second_convolution\n",
        "    tf.keras.layers.Conv2D(32, (3,3),padding='same', activation='relu'),\n",
        "    tf.keras.layers.MaxPooling2D(2,2),\n",
        "    #third_convolution\n",
        "    tf.keras.layers.Conv2D(64, (3,3),padding='same', activation='relu'),\n",
        "    tf.keras.layers.MaxPooling2D(2,2),\n",
        "    #fourth_convolution\n",
        "    tf.keras.layers.Conv2D(128, (3,3),padding='same', activation='relu'),\n",
        "    tf.keras.layers.MaxPooling2D(2,2),\n",
        "    tf.keras.layers.Dropout(0.5),\n",
        "    tf.keras.layers.Flatten(),\n",
        "\n",
        "    tf.keras.layers.Dense(256, activation='relu'),\n",
        "\n",
        "    tf.keras.layers.Dense(2, activation='softmax') \n",
        "]) "
      ],
      "execution_count": null,
      "outputs": []
    },
    {
      "cell_type": "code",
      "metadata": {
        "colab": {
          "base_uri": "https://localhost:8080/"
        },
        "id": "1dWb0gylktXZ",
        "outputId": "35c52969-88e7-47e5-e3e9-0df84d853a50"
      },
      "source": [
        "model.summary()"
      ],
      "execution_count": null,
      "outputs": [
        {
          "output_type": "stream",
          "name": "stdout",
          "text": [
            "Model: \"sequential\"\n",
            "_________________________________________________________________\n",
            "Layer (type)                 Output Shape              Param #   \n",
            "=================================================================\n",
            "conv2d (Conv2D)              (None, 148, 148, 32)      320       \n",
            "_________________________________________________________________\n",
            "max_pooling2d (MaxPooling2D) (None, 74, 74, 32)        0         \n",
            "_________________________________________________________________\n",
            "conv2d_1 (Conv2D)            (None, 74, 74, 32)        9248      \n",
            "_________________________________________________________________\n",
            "max_pooling2d_1 (MaxPooling2 (None, 37, 37, 32)        0         \n",
            "_________________________________________________________________\n",
            "conv2d_2 (Conv2D)            (None, 37, 37, 64)        18496     \n",
            "_________________________________________________________________\n",
            "max_pooling2d_2 (MaxPooling2 (None, 18, 18, 64)        0         \n",
            "_________________________________________________________________\n",
            "conv2d_3 (Conv2D)            (None, 18, 18, 128)       73856     \n",
            "_________________________________________________________________\n",
            "max_pooling2d_3 (MaxPooling2 (None, 9, 9, 128)         0         \n",
            "_________________________________________________________________\n",
            "dropout (Dropout)            (None, 9, 9, 128)         0         \n",
            "_________________________________________________________________\n",
            "flatten (Flatten)            (None, 10368)             0         \n",
            "_________________________________________________________________\n",
            "dense (Dense)                (None, 256)               2654464   \n",
            "_________________________________________________________________\n",
            "dense_1 (Dense)              (None, 2)                 514       \n",
            "=================================================================\n",
            "Total params: 2,756,898\n",
            "Trainable params: 2,756,898\n",
            "Non-trainable params: 0\n",
            "_________________________________________________________________\n"
          ]
        }
      ]
    },
    {
      "cell_type": "code",
      "metadata": {
        "colab": {
          "base_uri": "https://localhost:8080/"
        },
        "id": "lwrxjXZU9y7W",
        "outputId": "77dd441b-ccca-4729-802c-8acfbf1e1b0b"
      },
      "source": [
        "from keras.callbacks import ModelCheckpoint, EarlyStopping\n",
        "model.compile(loss='categorical_crossentropy', optimizer='adam', metrics=['accuracy'])\n",
        "# simple early stopping\n",
        "es = EarlyStopping(monitor='val_loss', mode='min', verbose=1, patience=25)\n",
        "mc = ModelCheckpoint('best_model.h5', monitor='val_accuracy', mode='max', verbose=1, save_best_only=True)\n",
        "# fit model\n",
        "history = model.fit(train_generator, batch_size=32,validation_data=validation_generator, validation_steps=100, epochs=200, steps_per_epoch=100, verbose=1, callbacks=[es, mc])\n"
      ],
      "execution_count": null,
      "outputs": [
        {
          "output_type": "stream",
          "name": "stdout",
          "text": [
            "Epoch 1/200\n",
            "100/100 [==============================] - 144s 1s/step - loss: 0.6602 - accuracy: 0.6037 - val_loss: 0.7202 - val_accuracy: 0.5569\n",
            "\n",
            "Epoch 00001: val_accuracy improved from -inf to 0.55687, saving model to best_model.h5\n",
            "Epoch 2/200\n",
            "100/100 [==============================] - 142s 1s/step - loss: 0.5706 - accuracy: 0.7050 - val_loss: 0.6012 - val_accuracy: 0.6897\n",
            "\n",
            "Epoch 00002: val_accuracy improved from 0.55687 to 0.68969, saving model to best_model.h5\n",
            "Epoch 3/200\n",
            "100/100 [==============================] - 142s 1s/step - loss: 0.4574 - accuracy: 0.7841 - val_loss: 0.5495 - val_accuracy: 0.7334\n",
            "\n",
            "Epoch 00003: val_accuracy improved from 0.68969 to 0.73344, saving model to best_model.h5\n",
            "Epoch 4/200\n",
            "100/100 [==============================] - 145s 1s/step - loss: 0.4107 - accuracy: 0.8178 - val_loss: 0.6493 - val_accuracy: 0.7097\n",
            "\n",
            "Epoch 00004: val_accuracy did not improve from 0.73344\n",
            "Epoch 5/200\n",
            "100/100 [==============================] - 140s 1s/step - loss: 0.3606 - accuracy: 0.8434 - val_loss: 0.5511 - val_accuracy: 0.7472\n",
            "\n",
            "Epoch 00005: val_accuracy improved from 0.73344 to 0.74719, saving model to best_model.h5\n",
            "Epoch 6/200\n",
            "100/100 [==============================] - 140s 1s/step - loss: 0.3356 - accuracy: 0.8578 - val_loss: 0.9160 - val_accuracy: 0.6488\n",
            "\n",
            "Epoch 00006: val_accuracy did not improve from 0.74719\n",
            "Epoch 7/200\n",
            "100/100 [==============================] - 140s 1s/step - loss: 0.3402 - accuracy: 0.8556 - val_loss: 0.5661 - val_accuracy: 0.7344\n",
            "\n",
            "Epoch 00007: val_accuracy did not improve from 0.74719\n",
            "Epoch 8/200\n",
            "100/100 [==============================] - 144s 1s/step - loss: 0.3063 - accuracy: 0.8647 - val_loss: 0.6688 - val_accuracy: 0.7084\n",
            "\n",
            "Epoch 00008: val_accuracy did not improve from 0.74719\n",
            "Epoch 9/200\n",
            "100/100 [==============================] - 141s 1s/step - loss: 0.3002 - accuracy: 0.8672 - val_loss: 0.7667 - val_accuracy: 0.6953\n",
            "\n",
            "Epoch 00009: val_accuracy did not improve from 0.74719\n",
            "Epoch 10/200\n",
            "100/100 [==============================] - 139s 1s/step - loss: 0.2980 - accuracy: 0.8716 - val_loss: 0.5772 - val_accuracy: 0.7369\n",
            "\n",
            "Epoch 00010: val_accuracy did not improve from 0.74719\n",
            "Epoch 11/200\n",
            "100/100 [==============================] - 140s 1s/step - loss: 0.2833 - accuracy: 0.8703 - val_loss: 0.7076 - val_accuracy: 0.6969\n",
            "\n",
            "Epoch 00011: val_accuracy did not improve from 0.74719\n",
            "Epoch 12/200\n",
            "100/100 [==============================] - 144s 1s/step - loss: 0.2709 - accuracy: 0.8825 - val_loss: 0.7220 - val_accuracy: 0.7022\n",
            "\n",
            "Epoch 00012: val_accuracy did not improve from 0.74719\n",
            "Epoch 13/200\n",
            "100/100 [==============================] - 141s 1s/step - loss: 0.2741 - accuracy: 0.8859 - val_loss: 0.6841 - val_accuracy: 0.7159\n",
            "\n",
            "Epoch 00013: val_accuracy did not improve from 0.74719\n",
            "Epoch 14/200\n",
            "100/100 [==============================] - 140s 1s/step - loss: 0.2459 - accuracy: 0.8947 - val_loss: 0.6807 - val_accuracy: 0.7325\n",
            "\n",
            "Epoch 00014: val_accuracy did not improve from 0.74719\n",
            "Epoch 15/200\n",
            "100/100 [==============================] - 141s 1s/step - loss: 0.2645 - accuracy: 0.8897 - val_loss: 0.5952 - val_accuracy: 0.7478\n",
            "\n",
            "Epoch 00015: val_accuracy improved from 0.74719 to 0.74781, saving model to best_model.h5\n",
            "Epoch 16/200\n",
            "100/100 [==============================] - 145s 1s/step - loss: 0.2658 - accuracy: 0.8931 - val_loss: 0.7153 - val_accuracy: 0.7203\n",
            "\n",
            "Epoch 00016: val_accuracy did not improve from 0.74781\n",
            "Epoch 17/200\n",
            "100/100 [==============================] - 141s 1s/step - loss: 0.2427 - accuracy: 0.9003 - val_loss: 0.5936 - val_accuracy: 0.7606\n",
            "\n",
            "Epoch 00017: val_accuracy improved from 0.74781 to 0.76063, saving model to best_model.h5\n",
            "Epoch 18/200\n",
            "100/100 [==============================] - 140s 1s/step - loss: 0.2464 - accuracy: 0.8984 - val_loss: 0.6506 - val_accuracy: 0.7303\n",
            "\n",
            "Epoch 00018: val_accuracy did not improve from 0.76063\n",
            "Epoch 19/200\n",
            "100/100 [==============================] - 140s 1s/step - loss: 0.2341 - accuracy: 0.8997 - val_loss: 0.6380 - val_accuracy: 0.7603\n",
            "\n",
            "Epoch 00019: val_accuracy did not improve from 0.76063\n",
            "Epoch 20/200\n",
            "100/100 [==============================] - 144s 1s/step - loss: 0.2418 - accuracy: 0.9028 - val_loss: 0.6041 - val_accuracy: 0.7547\n",
            "\n",
            "Epoch 00020: val_accuracy did not improve from 0.76063\n",
            "Epoch 21/200\n",
            "100/100 [==============================] - 140s 1s/step - loss: 0.2218 - accuracy: 0.9089 - val_loss: 0.5723 - val_accuracy: 0.7459\n",
            "\n",
            "Epoch 00021: val_accuracy did not improve from 0.76063\n",
            "Epoch 22/200\n",
            "100/100 [==============================] - 142s 1s/step - loss: 0.2123 - accuracy: 0.9084 - val_loss: 0.6169 - val_accuracy: 0.7581\n",
            "\n",
            "Epoch 00022: val_accuracy did not improve from 0.76063\n",
            "Epoch 23/200\n",
            "100/100 [==============================] - 140s 1s/step - loss: 0.2210 - accuracy: 0.9081 - val_loss: 0.7267 - val_accuracy: 0.6981\n",
            "\n",
            "Epoch 00023: val_accuracy did not improve from 0.76063\n",
            "Epoch 24/200\n",
            "100/100 [==============================] - 146s 1s/step - loss: 0.2100 - accuracy: 0.9162 - val_loss: 0.6466 - val_accuracy: 0.7437\n",
            "\n",
            "Epoch 00024: val_accuracy did not improve from 0.76063\n",
            "Epoch 25/200\n",
            "100/100 [==============================] - 140s 1s/step - loss: 0.2100 - accuracy: 0.9162 - val_loss: 0.5911 - val_accuracy: 0.7822\n",
            "\n",
            "Epoch 00025: val_accuracy improved from 0.76063 to 0.78219, saving model to best_model.h5\n",
            "Epoch 26/200\n",
            "100/100 [==============================] - 142s 1s/step - loss: 0.2158 - accuracy: 0.9159 - val_loss: 0.8264 - val_accuracy: 0.7031\n",
            "\n",
            "Epoch 00026: val_accuracy did not improve from 0.78219\n",
            "Epoch 27/200\n",
            "100/100 [==============================] - 139s 1s/step - loss: 0.2190 - accuracy: 0.9011 - val_loss: 0.7841 - val_accuracy: 0.7281\n",
            "\n",
            "Epoch 00027: val_accuracy did not improve from 0.78219\n",
            "Epoch 28/200\n",
            "100/100 [==============================] - 146s 1s/step - loss: 0.1846 - accuracy: 0.9300 - val_loss: 0.7188 - val_accuracy: 0.7316\n",
            "\n",
            "Epoch 00028: val_accuracy did not improve from 0.78219\n",
            "Epoch 00028: early stopping\n"
          ]
        }
      ]
    },
    {
      "cell_type": "code",
      "metadata": {
        "colab": {
          "base_uri": "https://localhost:8080/",
          "height": 590
        },
        "id": "IZPHV4d0PizJ",
        "outputId": "b59cda65-9fee-4ed8-ccdf-edd2be0dc503"
      },
      "source": [
        "# list all data in history\n",
        "print(history.history.keys())\n",
        "\n",
        "# summarize history for training and validation accuracy\n",
        "plt.plot(history.history['accuracy'])\n",
        "plt.plot(history.history['val_accuracy'])\n",
        "plt.title('model accuracy')\n",
        "plt.ylabel('accuracy')\n",
        "plt.xlabel('epoch')\n",
        "plt.legend(['train', 'test'], loc='upper left')\n",
        "plt.show()\n",
        "\n",
        "# summarize history for training and validation loss\n",
        "plt.plot(history.history['loss'])\n",
        "plt.plot(history.history['val_loss'])\n",
        "plt.title('model loss')\n",
        "plt.ylabel('loss')\n",
        "plt.xlabel('epoch')\n",
        "plt.legend(['train', 'test'], loc='upper left')\n",
        "plt.show()"
      ],
      "execution_count": null,
      "outputs": [
        {
          "output_type": "stream",
          "name": "stdout",
          "text": [
            "dict_keys(['loss', 'accuracy', 'val_loss', 'val_accuracy'])\n"
          ]
        },
        {
          "output_type": "display_data",
          "data": {
            "image/png": "[encoded data removed]",
            "text/plain": [
              "<Figure size 432x288 with 1 Axes>"
            ]
          },
          "metadata": {
            "needs_background": "light"
          }
        },
        {
          "output_type": "display_data",
          "data": {
            "image/png": "[encoded data removed]",
            "text/plain": [
              "<Figure size 432x288 with 1 Axes>"
            ]
          },
          "metadata": {
            "needs_background": "light"
          }
        }
      ]
    },
    {
      "cell_type": "code",
      "metadata": {
        "id": "Y1E3PQL7KfGL"
      },
      "source": [
        ""
      ],
      "execution_count": null,
      "outputs": []
    }
  ]
}